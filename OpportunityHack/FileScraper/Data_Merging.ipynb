{
 "cells": [
  {
   "cell_type": "markdown",
   "metadata": {},
   "source": [
    "### This notebook is just merging and cleaning the XML and API Call data Set\n",
    "\n",
    "- So we are finally getting the complete data set, with as many feature we have been requested for"
   ]
  },
  {
   "cell_type": "code",
   "execution_count": 2,
   "metadata": {},
   "outputs": [],
   "source": [
    "import pandas as pd"
   ]
  },
  {
   "cell_type": "code",
   "execution_count": 2,
   "metadata": {},
   "outputs": [],
   "source": [
    "dfXML = pd.read_csv(\"../OpportunityHack/Data/XML_Data_IRS_2023_Main.csv\")\n",
    "dfAPI = pd.read_csv(\"../OpportunityHack/Data/Final_API_Data.csv\")"
   ]
  },
  {
   "cell_type": "code",
   "execution_count": 6,
   "metadata": {},
   "outputs": [],
   "source": [
    "dfFilterAPI = dfAPI[['EIN_value', 'Name', 'PDF_URL', 'NTEE_Code', 'State', 'City']]"
   ]
  },
  {
   "cell_type": "code",
   "execution_count": 8,
   "metadata": {},
   "outputs": [],
   "source": [
    "dfMerge = dfFilterAPI.merge(dfXML, left_on='EIN_value', right_on='EIN', how='left')\n",
    "\n",
    "dfMerge = dfMerge.drop(columns=['EIN'])\n"
   ]
  },
  {
   "cell_type": "code",
   "execution_count": 8,
   "metadata": {},
   "outputs": [],
   "source": [
    "dfMerge_Foundations = pd.read_csv(\"../OpportunityHack/Data/merged_out.csv\")\n",
    "dfExtract = pd.read_csv(\"../OpportunityHack/Data/extracted_data.csv\")"
   ]
  },
  {
   "cell_type": "code",
   "execution_count": 10,
   "metadata": {},
   "outputs": [],
   "source": [
    "dfMerge_Foundations = dfMerge_Foundations[[\"EIN_value\", \"Name\", \"State\", \"City\", \"NTEE_Code\"]]"
   ]
  },
  {
   "cell_type": "code",
   "execution_count": 11,
   "metadata": {},
   "outputs": [],
   "source": [
    "dfNewMerge = dfMerge_Foundations[[\"EIN_value\", \"Name\", \"State\", \"City\", \"NTEE_Code\"]].merge(dfExtract, on=\"EIN_value\", how=\"inner\")\n"
   ]
  }
 ],
 "metadata": {
  "kernelspec": {
   "display_name": "Python 3",
   "language": "python",
   "name": "python3"
  },
  "language_info": {
   "codemirror_mode": {
    "name": "ipython",
    "version": 3
   },
   "file_extension": ".py",
   "mimetype": "text/x-python",
   "name": "python",
   "nbconvert_exporter": "python",
   "pygments_lexer": "ipython3",
   "version": "3.10.12"
  }
 },
 "nbformat": 4,
 "nbformat_minor": 2
}
