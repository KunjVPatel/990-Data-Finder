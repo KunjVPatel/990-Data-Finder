{
 "cells": [
  {
   "cell_type": "code",
   "execution_count": 1,
   "metadata": {},
   "outputs": [],
   "source": [
    "import os\n",
    "import xml.etree.ElementTree as ET\n",
    "import pandas as pd"
   ]
  },
  {
   "cell_type": "code",
   "execution_count": 2,
   "metadata": {},
   "outputs": [],
   "source": [
    "DataDirectory = \"/home/dark/GitHub/Opportunity-Hack-KSJ/Data\""
   ]
  },
  {
   "cell_type": "code",
   "execution_count": 3,
   "metadata": {},
   "outputs": [],
   "source": [
    "# Initialize a list to store the paths of XML files with 990PF records\n",
    "xmlPaths990PF = []\n",
    "\n",
    "# Loop through the folders and XML files\n",
    "for folderName in os.listdir(DataDirectory):\n",
    "    folderPath = os.path.join(DataDirectory, folderName)\n",
    "    if os.path.isdir(folderPath):\n",
    "        for xmlName in os.listdir(folderPath):\n",
    "            if xmlName.endswith(\".xml\"):\n",
    "                namespace = {'ns': 'http://www.irs.gov/efile'}\n",
    "                xmlPath = os.path.join(folderPath, xmlName)\n",
    "                # print(xmlPath)\n",
    "                tree = ET.parse(xmlPath)\n",
    "                root = tree.getroot()\n",
    "\n",
    "                # Find Form Type and include only 990PF records\n",
    "                returnTypeElem = root.find(\".//ns:ReturnTypeCd\", namespaces=namespace)\n",
    "                if returnTypeElem is not None:\n",
    "                    formType = returnTypeElem.text\n",
    "                    if formType.lower() == \"990pf\":\n",
    "                        xmlPaths990PF.append(xmlPath)"
   ]
  },
  {
   "cell_type": "code",
   "execution_count": 4,
   "metadata": {},
   "outputs": [
    {
     "name": "stdout",
     "output_type": "stream",
     "text": [
      "Data extracted and saved to extracted_data.csv\n"
     ]
    }
   ],
   "source": [
    "ein_values = []\n",
    "form_and_info_and_materials = []\n",
    "recipient_person_names = []\n",
    "submission_deadlines = []\n",
    "restrictions_on_awards = []\n",
    "only_contri_to_preselected = []\n",
    "current_year_grant = []\n",
    "\n",
    "n = 5000\n",
    "records_processed = 0\n",
    "\n",
    "# Loop through the paths of XML files containing 990PF records\n",
    "for xmlPath in xmlPaths990PF:\n",
    "    namespace = {'ns': 'http://www.irs.gov/efile'}\n",
    "    \n",
    "    try:\n",
    "        # Parse the XML file\n",
    "        tree = ET.parse(xmlPath)\n",
    "        root = tree.getroot()\n",
    "        \n",
    "        # Find the <ApplicationSubmissionInfoGrp> element\n",
    "        app_submission_info_elem = root.find(\".//ns:ApplicationSubmissionInfoGrp\", namespaces=namespace)\n",
    "        \n",
    "        if app_submission_info_elem is not None:\n",
    "            records_processed += 1\n",
    "            \n",
    "            # Extract the EIN value\n",
    "            einElem = root.find(\".//ns:EIN\", namespaces=namespace)\n",
    "            einVal = einElem.text.strip() if einElem is not None else 'N/A'\n",
    "            ein_values.append(einVal)\n",
    "            # print(ein_values)\n",
    "            \n",
    "            # Extract values for columns within <ApplicationSubmissionInfoGrp>\n",
    "            form_info_materials_elem = app_submission_info_elem.find(\".//ns:FormAndInfoAndMaterialsTxt\", namespaces=namespace)\n",
    "            recipient_person_nm_elem = app_submission_info_elem.find(\".//ns:RecipientPersonNm\", namespaces=namespace)\n",
    "            submission_deadlines_elem = app_submission_info_elem.find(\".//ns:SubmissionDeadlinesTxt\", namespaces=namespace)\n",
    "            restrictions_on_awards_elem = app_submission_info_elem.find(\".//ns:RestrictionsOnAwardsTxt\", namespaces=namespace)\n",
    "            \n",
    "            # Extract the <OnlyContriToPreselectedInd> element\n",
    "            only_contri_elem = app_submission_info_elem.find(\".//ns:OnlyContriToPreselectedInd\", namespaces=namespace)\n",
    "            only_contri_value = 'yes' if only_contri_elem is not None and only_contri_elem.text.strip() == 'X' else 'no'\n",
    "            only_contri_to_preselected.append(only_contri_value)\n",
    "            \n",
    "            # Extract the <CYContributionsGrantsAmt> element\n",
    "            cy_contributions_elem = app_submission_info_elem.find(\".//ns:CYContributionsGrantsAmt\", namespaces=namespace)\n",
    "            cy_contributions_value = cy_contributions_elem.text.strip() if cy_contributions_elem is not None else 'N/A'\n",
    "            current_year_grant.append(cy_contributions_value)\n",
    "\n",
    "            # Append values to respective lists with error handling\n",
    "            form_info_materials = form_info_materials_elem.text.strip() if form_info_materials_elem is not None else 'N/A'\n",
    "            recipient_person_nm = recipient_person_nm_elem.text.strip() if recipient_person_nm_elem is not None else ''\n",
    "            submission_deadlines_txt = submission_deadlines_elem.text.strip() if submission_deadlines_elem is not None else ''\n",
    "            restrictions_on_awards_txt = restrictions_on_awards_elem.text.strip() if restrictions_on_awards_elem is not None else ''\n",
    "            \n",
    "            form_and_info_and_materials.append(form_info_materials)\n",
    "            recipient_person_names.append(recipient_person_nm)\n",
    "            submission_deadlines.append(submission_deadlines_txt)\n",
    "            restrictions_on_awards.append(restrictions_on_awards_txt)\n",
    "        \n",
    "        if records_processed >= n:\n",
    "            break\n",
    "    \n",
    "    except Exception as e:\n",
    "        print(f\"Error processing {xmlPath}: {str(e)}\")\n",
    "\n",
    "if all(len(lst) == records_processed for lst in [ein_values, form_and_info_and_materials, recipient_person_names, submission_deadlines, restrictions_on_awards, only_contri_to_preselected, current_year_grant]):\n",
    "\n",
    "    df = pd.DataFrame({\n",
    "        'EIN_value': ein_values,\n",
    "        'FormAndInfoAndMaterialsTxt': form_and_info_and_materials,\n",
    "        'RecipientPersonNm': recipient_person_names,\n",
    "        'SubmissionDeadlinesTxt': submission_deadlines,\n",
    "        'RestrictionsOnAwardsTxt': restrictions_on_awards,\n",
    "        'OnlyContriToPreselectedInd': only_contri_to_preselected,\n",
    "        'CurrentYearGrantAmount': current_year_grant\n",
    "    })\n",
    "\n",
    "    csv_file_path = 'extracted_data.csv'\n",
    "\n",
    "    df.to_csv(csv_file_path, index=False)\n",
    "\n",
    "    print(f'Data extracted and saved to {csv_file_path}')\n",
    "else:\n",
    "    print(\"Lists have different lengths. Please check your data extraction logic.\")\n"
   ]
  },
  {
   "cell_type": "code",
   "execution_count": 5,
   "metadata": {},
   "outputs": [],
   "source": [
    "df3 = pd.DataFrame()\n",
    "df3['EIN'] = df['EIN_value']"
   ]
  }
 ],
 "metadata": {
  "kernelspec": {
   "display_name": "Python 3",
   "language": "python",
   "name": "python3"
  },
  "language_info": {
   "codemirror_mode": {
    "name": "ipython",
    "version": 3
   },
   "file_extension": ".py",
   "mimetype": "text/x-python",
   "name": "python",
   "nbconvert_exporter": "python",
   "pygments_lexer": "ipython3",
   "version": "3.10.12"
  }
 },
 "nbformat": 4,
 "nbformat_minor": 2
}
